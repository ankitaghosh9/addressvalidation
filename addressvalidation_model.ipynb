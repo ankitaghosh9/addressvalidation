{
 "cells": [
  {
   "cell_type": "code",
   "execution_count": 1,
   "metadata": {},
   "outputs": [
    {
     "name": "stderr",
     "output_type": "stream",
     "text": [
      "/home/ghosh/.local/lib/python3.7/site-packages/sklearn/externals/joblib/__init__.py:15: FutureWarning: sklearn.externals.joblib is deprecated in 0.21 and will be removed in 0.23. Please import this functionality directly from joblib, which can be installed with: pip install joblib. If this warning is raised when loading pickled models, you may need to re-serialize those models with scikit-learn 0.21+.\n",
      "  warnings.warn(msg, category=FutureWarning)\n"
     ]
    }
   ],
   "source": [
    "#import statements\n",
    "import pandas as pd\n",
    "import numpy as np\n",
    "from sklearn.model_selection import train_test_split\n",
    "from sklearn.feature_extraction.text import TfidfVectorizer\n",
    "from sklearn.svm import LinearSVC\n",
    "from sklearn.naive_bayes import MultinomialNB\n",
    "from sklearn.metrics import accuracy_score,confusion_matrix,f1_score\n",
    "from sklearn.externals import joblib "
   ]
  },
  {
   "cell_type": "code",
   "execution_count": 2,
   "metadata": {},
   "outputs": [
    {
     "name": "stderr",
     "output_type": "stream",
     "text": [
      "/home/ghosh/.local/lib/python3.7/site-packages/pandas/core/ops/array_ops.py:253: FutureWarning: elementwise comparison failed; returning scalar instead, but in the future will perform elementwise comparison\n",
      "  res_values = method(rvalues)\n"
     ]
    }
   ],
   "source": [
    "#data input\n",
    "df1 = pd.read_csv(\"/home/ghosh/Desktop/internships/shopclues101/modifieddata/newtrain.csv\")\n",
    "df = df1.where((pd.notnull(df1)), '')\n",
    "pf1 = pd.read_csv(\"/home/ghosh/Desktop/internships/shopclues101/modifieddata/newtest.csv\")\n",
    "pf = pf1.where((pd.notnull(df1)), '')\n",
    "\n",
    "#train set\n",
    "# Categorize invalidity\n",
    "df.loc[df[\"is_invalid\"] == '1', \"is_invalid\",] = 1\n",
    "df.loc[df[\"is_invalid\"] == '0', \"is_invalid\",] = 0\n",
    "# split data as label and address\n",
    "df_x = df['address']\n",
    "y_train = df['is_invalid']\n",
    "\n",
    "#test set\n",
    "# Categorize invalidity\n",
    "pf.loc[df[\"is_invalid\"] == '1', \"is_invalid\",] = 1\n",
    "pf.loc[df[\"is_invalid\"] == '0', \"is_invalid\",] = 0\n",
    "# split data as label and address\n",
    "pf_x = df['address']\n",
    "y_test = df['is_invalid']"
   ]
  },
  {
   "cell_type": "code",
   "execution_count": 3,
   "metadata": {},
   "outputs": [],
   "source": [
    "# feature extraction, coversion to lower case and removal of stop words using TFIDF VECTORIZER\n",
    "tfvec = TfidfVectorizer(min_df=1, stop_words='english', lowercase=True)\n",
    "x_trainFeat = tfvec.fit_transform(df_x)\n",
    "x_testFeat = tfvec.fit_transform(pf_x)"
   ]
  },
  {
   "cell_type": "code",
   "execution_count": 4,
   "metadata": {},
   "outputs": [],
   "source": [
    "# SVM model\n",
    "y_trainSvm = y_train.astype('int')\n",
    "classifierModel = LinearSVC()\n",
    "classifierModel.fit(x_trainFeat, y_trainSvm)\n",
    "joblib.dump(classifierModel, '/home/ghosh/Desktop/internships/shopclues101/SVMmodel.pkl') \n",
    "predResult = classifierModel.predict(x_testFeat)"
   ]
  },
  {
   "cell_type": "code",
   "execution_count": 5,
   "metadata": {},
   "outputs": [],
   "source": [
    "# MNB model\n",
    "y_trainGnb = y_train.astype('int')\n",
    "classifierModel2 = MultinomialNB()\n",
    "classifierModel2.fit(x_trainFeat, y_trainGnb)\n",
    "joblib.dump(classifierModel2, '/home/ghosh/Desktop/internships/shopclues101/MNBmodel.pkl') \n",
    "predResult2 = classifierModel2.predict(x_testFeat)"
   ]
  },
  {
   "cell_type": "code",
   "execution_count": 6,
   "metadata": {},
   "outputs": [
    {
     "name": "stdout",
     "output_type": "stream",
     "text": [
      "~~~~~~~~~~SVM RESULTS~~~~~~~~~~\n",
      "Accuracy Score using SVM: 97.6312\n",
      "F Score using SVM:  85.0294\n",
      "Confusion matrix using SVM:\n",
      "[[1247280     943]\n",
      " [  30260   38748]]\n",
      "~~~~~~~~~~MNB RESULTS~~~~~~~~~~\n",
      "Accuracy Score using MNB: 96.0494\n",
      "F Score using MNB: 68.7774\n",
      "Confusion matrix using MNB:\n",
      "[[1248135      88]\n",
      " [  51951   17057]]\n"
     ]
    }
   ],
   "source": [
    "# Calc accuracy\n",
    "y_test = y_test.astype('int')\n",
    "actual_Y = y_test.to_numpy()\n",
    "\n",
    "print(\"~~~~~~~~~~SVM RESULTS~~~~~~~~~~\")\n",
    "#Accuracy score using SVM\n",
    "print(\"Accuracy Score using SVM: {0:.4f}\".format(accuracy_score(actual_Y, predResult)*100))\n",
    "#FScore MACRO using SVM\n",
    "print(\"F Score using SVM: {0: .4f}\".format(f1_score(actual_Y, predResult, average='macro')*100))\n",
    "cmSVM=confusion_matrix(actual_Y, predResult)\n",
    "#\"[True negative  False Positive\\nFalse Negative True Positive]\"\n",
    "print(\"Confusion matrix using SVM:\")\n",
    "print(cmSVM)\n",
    "\n",
    "print(\"~~~~~~~~~~MNB RESULTS~~~~~~~~~~\")\n",
    "#Accuracy score using MNB\n",
    "print(\"Accuracy Score using MNB: {0:.4f}\".format(accuracy_score(actual_Y, predResult2)*100))\n",
    "#FScore MACRO using MNB\n",
    "print(\"F Score using MNB:{0: .4f}\".format(f1_score(actual_Y, predResult2, average='macro')*100))\n",
    "cmMNb=confusion_matrix(actual_Y, predResult2)\n",
    "#\"[True negative  False Positive\\nFalse Negative True Positive]\"\n",
    "print(\"Confusion matrix using MNB:\")\n",
    "print(cmMNb)"
   ]
  }
 ],
 "metadata": {
  "kernelspec": {
   "display_name": "Python 3",
   "language": "python",
   "name": "python3"
  },
  "language_info": {
   "codemirror_mode": {
    "name": "ipython",
    "version": 3
   },
   "file_extension": ".py",
   "mimetype": "text/x-python",
   "name": "python",
   "nbconvert_exporter": "python",
   "pygments_lexer": "ipython3",
   "version": "3.7.3"
  }
 },
 "nbformat": 4,
 "nbformat_minor": 4
}
